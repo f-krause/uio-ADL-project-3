{
 "cells": [
  {
   "cell_type": "markdown",
   "source": [
    "# Experiments for PDF of new prior"
   ],
   "metadata": {
    "collapsed": false
   }
  },
  {
   "cell_type": "code",
   "execution_count": 1,
   "outputs": [],
   "source": [
    "import numpy as np\n",
    "from scipy import integrate"
   ],
   "metadata": {
    "collapsed": false,
    "ExecuteTime": {
     "end_time": "2023-11-23T18:58:42.730274100Z",
     "start_time": "2023-11-23T18:58:42.630680400Z"
    }
   }
  },
  {
   "cell_type": "code",
   "execution_count": 5,
   "outputs": [],
   "source": [
    "def l1_pdf(x, y):\n",
    "    denom = np.abs(x) + np.abs(y)\n",
    "    ls = (x / denom) ** 2\n",
    "    rs = (y / denom) ** 2\n",
    "    return 0.5 * np.sqrt(ls + rs)"
   ],
   "metadata": {
    "collapsed": false,
    "ExecuteTime": {
     "end_time": "2023-11-23T19:01:03.187604600Z",
     "start_time": "2023-11-23T19:01:03.176895300Z"
    }
   }
  },
  {
   "cell_type": "code",
   "execution_count": 13,
   "outputs": [
    {
     "name": "stdout",
     "output_type": "stream",
     "text": [
      "Line integral along the unit sphere: 7.831679343825131\n"
     ]
    }
   ],
   "source": [
    "def sphere_line_integral(phi, theta):\n",
    "    # Parametric equations for the unit sphere\n",
    "    x = np.sin(phi) * np.cos(theta)\n",
    "    y = np.sin(phi) * np.sin(theta)\n",
    "    z = np.cos(phi)\n",
    "\n",
    "    # Evaluate the pdf at the point (x, y)\n",
    "    pdf_value = l1_pdf(x, y)  # Adjust this based on your pdf\n",
    "\n",
    "    # Return the integrand for the line integral\n",
    "    return pdf_value\n",
    "\n",
    "# Set up the integration limits for spherical coordinates\n",
    "phi_range = (0, np.pi)   # Polar angle\n",
    "theta_range = (0, 2 * np.pi)  # Azimuthal angle\n",
    "\n",
    "# Perform the numerical integration\n",
    "result, _ = integrate.nquad(sphere_line_integral, [theta_range, phi_range])\n",
    "\n",
    "print(\"Line integral along the unit sphere:\", result)"
   ],
   "metadata": {
    "collapsed": false,
    "ExecuteTime": {
     "end_time": "2023-11-23T19:03:56.898991800Z",
     "start_time": "2023-11-23T19:03:56.870074200Z"
    }
   }
  }
 ],
 "metadata": {
  "kernelspec": {
   "display_name": "Python 3",
   "language": "python",
   "name": "python3"
  },
  "language_info": {
   "codemirror_mode": {
    "name": "ipython",
    "version": 2
   },
   "file_extension": ".py",
   "mimetype": "text/x-python",
   "name": "python",
   "nbconvert_exporter": "python",
   "pygments_lexer": "ipython2",
   "version": "2.7.6"
  }
 },
 "nbformat": 4,
 "nbformat_minor": 0
}
