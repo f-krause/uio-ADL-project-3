{
 "cells": [
  {
   "cell_type": "markdown",
   "source": [
    "## Experiments with Discrete Cosine Transform"
   ],
   "metadata": {
    "collapsed": false
   }
  },
  {
   "cell_type": "code",
   "execution_count": 6,
   "outputs": [],
   "source": [
    "import scipy\n",
    "import numpy as np\n",
    "import torch\n",
    "import matplotlib.pyplot as plt\n",
    "from PIL import Image"
   ],
   "metadata": {
    "collapsed": false,
    "ExecuteTime": {
     "end_time": "2023-11-15T22:53:51.140049600Z",
     "start_time": "2023-11-15T22:53:51.129626300Z"
    }
   }
  },
  {
   "cell_type": "code",
   "execution_count": 7,
   "outputs": [
    {
     "name": "stdout",
     "output_type": "stream",
     "text": [
      "Image Tensor Shape: (32, 32, 3)\n"
     ]
    },
    {
     "data": {
      "text/plain": "<Figure size 432x288 with 1 Axes>",
      "image/png": "[encoded data removed]"
     },
     "metadata": {
      "needs_background": "light"
     },
     "output_type": "display_data"
    }
   ],
   "source": [
    "# Load the PNG image using Pillow\n",
    "image_path = \"assets/0_43.jpg\"\n",
    "image = Image.open(image_path)\n",
    "\n",
    "# Convert the image to a NumPy array (tensor)\n",
    "img = np.array(image)\n",
    "\n",
    "# Print the shape of the image tensor\n",
    "print(\"Image Tensor Shape:\", img.shape)\n",
    "\n",
    "# Optionally, you can normalize the pixel values to be between 0 and 1\n",
    "img = img / 255.0\n",
    "\n",
    "# img = torch.randn(28, 28).flatten()\n",
    "plt.hist(img.flatten())\n",
    "plt.show()"
   ],
   "metadata": {
    "collapsed": false,
    "ExecuteTime": {
     "end_time": "2023-11-15T22:53:51.842864900Z",
     "start_time": "2023-11-15T22:53:51.735998100Z"
    }
   }
  },
  {
   "cell_type": "code",
   "execution_count": 8,
   "outputs": [
    {
     "name": "stdout",
     "output_type": "stream",
     "text": [
      "Transformed Image:\n",
      "[[[ 1.41897059e+01  1.20887255e+01  8.99350490e+00]\n",
      "  [-9.52662005e-01 -8.92352973e-01 -1.06566319e+00]\n",
      "  [ 5.02892878e-01  2.58973395e-01 -4.34399787e-01]\n",
      "  ...\n",
      "  [-1.04514809e-02  3.25252368e-03 -3.15080256e-02]\n",
      "  [ 2.16857436e-03  3.99012765e-03  5.65235612e-03]\n",
      "  [ 3.36625716e-02  2.20804862e-02  6.13398235e-02]]\n",
      "\n",
      " [[-6.70909186e-01 -4.82847702e-01 -1.32672011e+00]\n",
      "  [-8.18225743e-01 -8.85009224e-01 -1.34305729e+00]\n",
      "  [-1.19499828e-01 -9.16997722e-03  4.54913506e-01]\n",
      "  ...\n",
      "  [ 4.94034291e-04  1.71056427e-02  1.24448077e-02]\n",
      "  [ 3.97555404e-04  7.76903620e-04  1.38218933e-03]\n",
      "  [ 1.84010619e-02  1.86216656e-03  1.92903345e-03]]\n",
      "\n",
      " [[-7.75010652e-01 -2.14459033e-01  2.34303765e-01]\n",
      "  [ 3.23923591e-01  3.80626549e-01  8.33803521e-01]\n",
      "  [ 3.01965636e-01  3.29444028e-01  1.48575257e-01]\n",
      "  ...\n",
      "  [-7.16183160e-03 -4.58922473e-03 -2.16704219e-02]\n",
      "  [-5.09199194e-03 -2.59119025e-03 -6.53915546e-03]\n",
      "  [-9.65937100e-03 -9.52522006e-03  2.21638426e-03]]\n",
      "\n",
      " ...\n",
      "\n",
      " [[ 6.06145535e-02  6.48953824e-02  1.58206551e-02]\n",
      "  [-1.81833311e-02 -2.92530701e-02 -3.84981142e-02]\n",
      "  [-2.57964798e-02 -1.23218325e-02  7.94389604e-03]\n",
      "  ...\n",
      "  [-2.26510449e-04  2.04430197e-03 -1.60301485e-03]\n",
      "  [-1.79537493e-03 -5.79567908e-03 -2.20189495e-03]\n",
      "  [ 7.89908062e-04  1.11341011e-03  4.88731030e-05]]\n",
      "\n",
      " [[ 2.12403051e-02  2.17236721e-02  2.18102292e-02]\n",
      "  [-9.83400450e-03 -5.07971170e-03 -1.06484601e-02]\n",
      "  [ 2.59476074e-02  2.49979961e-02  2.53367171e-02]\n",
      "  ...\n",
      "  [ 1.23569281e-02  1.09541192e-02  1.07985453e-02]\n",
      "  [-1.45607040e-02 -1.02363674e-02 -1.20536112e-02]\n",
      "  [-3.91498161e-03 -5.75642984e-03 -4.50981028e-03]]\n",
      "\n",
      " [[ 2.00651983e-02  1.73226407e-02  6.20490550e-02]\n",
      "  [-5.49745185e-02 -4.97051102e-02 -3.01407878e-02]\n",
      "  [-7.20191412e-03 -1.75198384e-02 -3.56127202e-02]\n",
      "  ...\n",
      "  [-2.98099277e-03 -7.03194289e-03  4.70404329e-03]\n",
      "  [-1.75078707e-03 -3.34491640e-03 -2.11651338e-03]\n",
      "  [ 8.68858104e-03  1.34472169e-02  9.95890719e-03]]]\n",
      "\n",
      "Original Image:\n",
      "[[[0.40784314 0.35294118 0.25098039]\n",
      "  [0.41176471 0.36470588 0.2627451 ]\n",
      "  [0.42352941 0.38039216 0.27058824]\n",
      "  ...\n",
      "  [0.47058824 0.41568627 0.27058824]\n",
      "  [0.46666667 0.40392157 0.2627451 ]\n",
      "  [0.4627451  0.39215686 0.25098039]]\n",
      "\n",
      " [[0.42745098 0.37254902 0.27058824]\n",
      "  [0.44313725 0.38823529 0.28235294]\n",
      "  [0.44705882 0.40392157 0.28627451]\n",
      "  ...\n",
      "  [0.48627451 0.43137255 0.28627451]\n",
      "  [0.49803922 0.43529412 0.29411765]\n",
      "  [0.4745098  0.40392157 0.2627451 ]]\n",
      "\n",
      " [[0.43137255 0.37647059 0.27058824]\n",
      "  [0.44705882 0.39215686 0.28627451]\n",
      "  [0.45882353 0.40392157 0.29019608]\n",
      "  ...\n",
      "  [0.49803922 0.44313725 0.30588235]\n",
      "  [0.53333333 0.47058824 0.3372549 ]\n",
      "  [0.49411765 0.41960784 0.29019608]]\n",
      "\n",
      " ...\n",
      "\n",
      " [[0.34509804 0.3254902  0.23921569]\n",
      "  [0.43529412 0.41568627 0.3372549 ]\n",
      "  [0.50588235 0.48235294 0.41960784]\n",
      "  ...\n",
      "  [0.48235294 0.39607843 0.23529412]\n",
      "  [0.5372549  0.45490196 0.28627451]\n",
      "  [0.61176471 0.52941176 0.35294118]]\n",
      "\n",
      " [[0.45490196 0.44313725 0.36862745]\n",
      "  [0.51372549 0.50196078 0.43529412]\n",
      "  [0.56078431 0.55294118 0.50588235]\n",
      "  ...\n",
      "  [0.51372549 0.42745098 0.24313725]\n",
      "  [0.58431373 0.49803922 0.30588235]\n",
      "  [0.65098039 0.56470588 0.36862745]]\n",
      "\n",
      " [[0.54509804 0.54117647 0.47058824]\n",
      "  [0.49411765 0.48627451 0.42745098]\n",
      "  [0.52156863 0.50980392 0.4745098 ]\n",
      "  ...\n",
      "  [0.54117647 0.45490196 0.2627451 ]\n",
      "  [0.61176471 0.52941176 0.32156863]\n",
      "  [0.64313725 0.56078431 0.34509804]]]\n"
     ]
    }
   ],
   "source": [
    "import numpy as np\n",
    "from scipy.fftpack import dct, idct\n",
    "\n",
    "# Step 1: Create a 3D tensor (image with three color channels)\n",
    "# image = np.random.rand(28, 28, 3)  # Replace this with your actual image data\n",
    "\n",
    "# Step 2: Apply 2D DCT to each channel\n",
    "dct_image = np.zeros_like(img)\n",
    "\n",
    "for i in range(img.shape[-1]):  # Iterate over color channels\n",
    "    dct_image[:, :, i] = dct(dct(img[:, :, i], axis=0, norm='ortho'), axis=1, norm='ortho')\n",
    "\n",
    "# Step 3: Print the transformed image\n",
    "print(\"Transformed Image:\")\n",
    "print(dct_image)\n",
    "\n",
    "# Step 4: Apply the inverse 2D DCT to each channel to get the original image back\n",
    "original_image = np.zeros_like(img)\n",
    "\n",
    "for i in range(img.shape[-1]):  # Iterate over color channels\n",
    "    original_image[:, :, i] = idct(idct(dct_image[:, :, i], axis=0, norm='ortho'), axis=1, norm='ortho')\n",
    "\n",
    "# Step 5: Print the original image\n",
    "print(\"\\nOriginal Image:\")\n",
    "print(original_image)"
   ],
   "metadata": {
    "collapsed": false,
    "ExecuteTime": {
     "end_time": "2023-11-15T22:53:53.114008700Z",
     "start_time": "2023-11-15T22:53:52.722873800Z"
    }
   }
  },
  {
   "cell_type": "code",
   "execution_count": 9,
   "outputs": [
    {
     "data": {
      "text/plain": "(array([ 67., 209., 520., 807., 883., 456.,  84.,  26.,  14.,   6.]),\n array([0.        , 0.09529412, 0.19058824, 0.28588235, 0.38117647,\n        0.47647059, 0.57176471, 0.66705882, 0.76235294, 0.85764706,\n        0.95294118]),\n <BarContainer object of 10 artists>)"
     },
     "execution_count": 9,
     "metadata": {},
     "output_type": "execute_result"
    },
    {
     "data": {
      "text/plain": "<Figure size 432x288 with 1 Axes>",
      "image/png": "[encoded data removed]"
     },
     "metadata": {
      "needs_background": "light"
     },
     "output_type": "display_data"
    }
   ],
   "source": [
    "plt.hist(img.flatten())"
   ],
   "metadata": {
    "collapsed": false,
    "ExecuteTime": {
     "end_time": "2023-11-15T22:53:54.182870400Z",
     "start_time": "2023-11-15T22:53:54.048995300Z"
    }
   }
  },
  {
   "cell_type": "code",
   "execution_count": 10,
   "outputs": [
    {
     "data": {
      "text/plain": "<Figure size 432x288 with 1 Axes>",
      "image/png": "[encoded data removed]"
     },
     "metadata": {
      "needs_background": "light"
     },
     "output_type": "display_data"
    }
   ],
   "source": [
    "plt.hist(dct_image.flatten())\n",
    "plt.show()"
   ],
   "metadata": {
    "collapsed": false,
    "ExecuteTime": {
     "end_time": "2023-11-15T22:53:55.234635100Z",
     "start_time": "2023-11-15T22:53:55.100113400Z"
    }
   }
  },
  {
   "cell_type": "code",
   "execution_count": 11,
   "outputs": [
    {
     "data": {
      "text/plain": "<Figure size 432x288 with 1 Axes>",
      "image/png": "[encoded data removed]"
     },
     "metadata": {
      "needs_background": "light"
     },
     "output_type": "display_data"
    }
   ],
   "source": [
    "plt.hist(dct_image[dct_image < 1])\n",
    "plt.show()"
   ],
   "metadata": {
    "collapsed": false,
    "ExecuteTime": {
     "end_time": "2023-11-15T22:53:56.202149500Z",
     "start_time": "2023-11-15T22:53:56.124029400Z"
    }
   }
  },
  {
   "cell_type": "code",
   "execution_count": 12,
   "outputs": [
    {
     "data": {
      "text/plain": "<Figure size 432x288 with 1 Axes>",
      "image/png": "[encoded data removed]"
     },
     "metadata": {
      "needs_background": "light"
     },
     "output_type": "display_data"
    }
   ],
   "source": [
    "# That's actually a lot of sparsity!\n",
    "plt.hist(dct_image[dct_image > 1])\n",
    "plt.show()"
   ],
   "metadata": {
    "collapsed": false,
    "ExecuteTime": {
     "end_time": "2023-11-15T22:53:56.869541500Z",
     "start_time": "2023-11-15T22:53:56.747134700Z"
    }
   }
  },
  {
   "cell_type": "markdown",
   "source": [
    "## Rotate points by 45°"
   ],
   "metadata": {
    "collapsed": false
   }
  },
  {
   "cell_type": "code",
   "execution_count": 3,
   "outputs": [],
   "source": [
    "import numpy as np"
   ],
   "metadata": {
    "collapsed": false,
    "ExecuteTime": {
     "end_time": "2023-11-19T13:03:19.342805200Z",
     "start_time": "2023-11-19T13:03:18.487666300Z"
    }
   }
  },
  {
   "cell_type": "code",
   "execution_count": 4,
   "outputs": [],
   "source": [
    "data = np.array([[1, 1], [2, 2], [3, 3]])\n",
    "theta = np.pi / 4\n",
    "rotation_matrix = np.array([[np.cos(theta), -np.sin(theta)], [np.sin(theta), np.cos(theta)]])\n",
    "\n",
    "rotated_data = np.matmul(data, rotation_matrix)"
   ],
   "metadata": {
    "collapsed": false,
    "ExecuteTime": {
     "end_time": "2023-11-19T13:03:29.485846400Z",
     "start_time": "2023-11-19T13:03:29.385531200Z"
    }
   }
  },
  {
   "cell_type": "code",
   "execution_count": 11,
   "outputs": [
    {
     "data": {
      "text/plain": "array([[1, 1],\n       [2, 2],\n       [3, 3]])"
     },
     "execution_count": 11,
     "metadata": {},
     "output_type": "execute_result"
    }
   ],
   "source": [
    "data"
   ],
   "metadata": {
    "collapsed": false,
    "ExecuteTime": {
     "end_time": "2023-11-19T13:03:59.984987600Z",
     "start_time": "2023-11-19T13:03:59.888664400Z"
    }
   }
  },
  {
   "cell_type": "code",
   "execution_count": 12,
   "outputs": [
    {
     "data": {
      "text/plain": "array([[ 1.41,  0.  ],\n       [ 2.83,  0.  ],\n       [ 4.24, -0.  ]])"
     },
     "execution_count": 12,
     "metadata": {},
     "output_type": "execute_result"
    }
   ],
   "source": [
    "rotated_data.round(2)"
   ],
   "metadata": {
    "collapsed": false,
    "ExecuteTime": {
     "end_time": "2023-11-19T13:04:32.330073Z",
     "start_time": "2023-11-19T13:04:32.305326800Z"
    }
   }
  }
 ],
 "metadata": {
  "kernelspec": {
   "display_name": "Python 3",
   "language": "python",
   "name": "python3"
  },
  "language_info": {
   "codemirror_mode": {
    "name": "ipython",
    "version": 2
   },
   "file_extension": ".py",
   "mimetype": "text/x-python",
   "name": "python",
   "nbconvert_exporter": "python",
   "pygments_lexer": "ipython2",
   "version": "2.7.6"
  }
 },
 "nbformat": 4,
 "nbformat_minor": 0
}
